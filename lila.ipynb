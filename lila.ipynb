{
 "cells": [
  {
   "cell_type": "code",
   "execution_count": 1,
   "metadata": {},
   "outputs": [
    {
     "data": {
      "text/html": [
       "<pre style=\"white-space:pre;overflow-x:auto;line-height:normal;font-family:Menlo,'DejaVu Sans Mono',consolas,'Courier New',monospace\">Manim Community <span style=\"color: #008000; text-decoration-color: #008000\">v0.17.2</span>\n",
       "\n",
       "</pre>\n"
      ],
      "text/plain": [
       "Manim Community \u001b[32mv0.\u001b[0m\u001b[32m17.2\u001b[0m\n",
       "\n"
      ]
     },
     "metadata": {},
     "output_type": "display_data"
    }
   ],
   "source": [
    "from manim import *\n",
    "\n"
   ]
  },
  {
   "cell_type": "code",
   "execution_count": 2,
   "metadata": {},
   "outputs": [
    {
     "name": "stderr",
     "output_type": "stream",
     "text": [
      "                                                                                                       \r"
     ]
    },
    {
     "data": {
      "text/html": [
       "<video src=\"media/jupyter/GetZAxisLabelExample@2023-03-23@02-22-16.mp4\" controls autoplay loop style=\"max-width: 50%;\"  >\n",
       "      Your browser does not support the <code>video</code> element.\n",
       "    </video>"
      ],
      "text/plain": [
       "<IPython.core.display.Video object>"
      ]
     },
     "metadata": {},
     "output_type": "display_data"
    }
   ],
   "source": [
    "%%manim -qm -v WARNING GetZAxisLabelExample\n",
    "config.media_width = \"50%\"\n",
    "config.verbosity = \"WARNING\"\n",
    "# config.frame_height = 10\n",
    "config.frame_width = 20\n",
    "\n",
    "class GetZAxisLabelExample(ThreeDScene):\n",
    "    \n",
    "    def construct(self):\n",
    "        # self.camera.background_color=WHITE\n",
    "        # self.set_camera_orientation(phi=90 * DEGREES, theta=-90 * DEGREES,  frame_center=(-0.3,0,0), zoom=1.0)\n",
    "\n",
    "        g = Graph([],[], labels=True)\n",
    "        g.add_vertices(\"pump\", vertex_type=Rectangle, positions={\"pump\":(-4,4,0)}, vertex_config={\"width\": 1, \"height\": 1, \"fill_opacity\": 1})\n",
    "        g.add_vertices(\"junction1\", vertex_type=Circle, positions={\"junction1\":(-1,-1,0)}, vertex_config={\"radius\": 1, \"color\": WHITE, \"fill_opacity\": 1})\n",
    "        g.add_edges((\"pump\", \"junction1\"))\n",
    "\n",
    "        g.add_vertices(\"junction2\", vertex_type=Circle, positions={\"junction2\":(4,0,0)}, vertex_config={\"radius\": 1, \"color\": WHITE, \"fill_opacity\": 1})\n",
    "        g.add_edges((\"junction1\", \"junction2\"))\n",
    "\n",
    "        g.add_vertices(\"background1\", positions={\"background1\":(2,2,-10)}, vertex_type=Circle, vertex_config={\"color\": WHITE, \"fill_opacity\": 0.5, \"stroke_opacity\": 0.5}) \n",
    "        g.add_edges((\"junction2\", \"background1\"), edge_config={\"stroke_opacity\":0.5})\n",
    "\n",
    "        g.add_vertices(\"background2\", positions={\"background2\":(-7,2,-8)}, vertex_type=Circle, vertex_config={\"color\": WHITE, \"fill_opacity\": 0.5, \"stroke_opacity\": 0.5}) \n",
    "        g.add_edges((\"junction1\", \"background2\"), edge_config={\"stroke_opacity\":0.5})\n",
    "        g.add_vertices(\"background3\", positions={\"background3\":(-7,-3,-8)}, vertex_type=Circle, vertex_config={\"color\": WHITE, \"fill_opacity\": 0.5, \"stroke_opacity\": 0.5}) \n",
    "        g.add_edges((\"junction1\", \"background3\"), edge_config={\"stroke_opacity\":0.5})\n",
    "\n",
    "        self.play(Create(g))\n",
    "\n",
    "\n",
    "\n",
    "        junction1_ax = ThreeDAxes(x_range=(0, 4, 1), x_length=2, y_range=(0,4,1), y_length=2, axis_config={\n",
    "                \"include_ticks\": False,\n",
    "                # \"include_tip\": False,\n",
    "            },\n",
    "            z_axis_config={\n",
    "                \"include_tip\":False,\n",
    "                \"stroke_opacity\": 0,\n",
    "                \"fill_opacity\": 0\n",
    "            } )\n",
    "        junction1_ax.set_x(-7)\n",
    "        junction1_ax.set_y(4)\n",
    "        junction1_ax.set_z(0)\n",
    "        labx = junction1_ax.get_x_axis_label(Tex(\"Time\"))\n",
    "        laby = junction1_ax.get_y_axis_label(Tex(\"Pressure\"))\n",
    "\n",
    "        line1 = junction1_ax.plot(lambda t: np.cos(t) + 0.5 * np.cos(7 * t) + (1 / 7) * np.cos(14 * t) + 2, color=BLUE,)\n",
    "\n",
    "        junction2_ax = ThreeDAxes(x_range=(0, 4, 1), x_length=2, y_range=(0,4,1), y_length=2, axis_config={\n",
    "                \"include_ticks\": False,\n",
    "                # \"include_tip\": False,\n",
    "            },\n",
    "            z_axis_config={\n",
    "                \"include_tip\":False,\n",
    "                \"stroke_opacity\": 0,\n",
    "                \"fill_opacity\": 0\n",
    "            } )\n",
    "        junction2_ax.set_x(7)\n",
    "        junction2_ax.set_y(0)\n",
    "        junction2_ax.set_z(0)\n",
    "        labx = junction2_ax.get_x_axis_label(Tex(\"Time\"))\n",
    "        laby = junction2_ax.get_y_axis_label(Tex(\"Pressure\"))\n",
    "        line2 = junction2_ax.plot(lambda t: np.cos(t) + 0.5 * np.cos(7 * t) + (1 / 7) * np.cos(14 * t) + 2, color=RED,)\n",
    "\n",
    "        junction3_ax = ThreeDAxes(x_range=(0, 4, 1), x_length=2, y_range=(0,4,1), y_length=2, axis_config={\n",
    "                \"include_ticks\": False,\n",
    "                # \"include_tip\": False,\n",
    "            },\n",
    "            z_axis_config={\n",
    "                \"include_tip\":False,\n",
    "                \"stroke_opacity\": 0,\n",
    "                \"fill_opacity\": 0\n",
    "            } )\n",
    "        junction3_ax.set_x(-2)\n",
    "        junction3_ax.set_y(-4)\n",
    "        junction3_ax.set_z(0)\n",
    "        labx = junction3_ax.get_x_axis_label(Tex(\"Time\"))\n",
    "        laby = junction3_ax.get_y_axis_label(Tex(\"Pressure\"))\n",
    "        line3 = junction3_ax.plot(lambda t: np.cos(t) + 0.5 * np.cos(7 * t) + (1 / 7) * np.cos(14 * t) + 2, color=RED,)\n",
    "\n",
    "        # self.play(FadeIn(junction2_ax), FadeIn(labx), FadeIn(laby))\n",
    "        self.play(FadeIn(junction1_ax), FadeIn(junction2_ax), FadeIn(junction3_ax))\n",
    "        self.add(line1, line2, line3)\n",
    "        self.wait()"
   ]
  }
 ],
 "metadata": {
  "kernelspec": {
   "display_name": "Python 3 (ipykernel)",
   "language": "python",
   "name": "python3"
  },
  "language_info": {
   "codemirror_mode": {
    "name": "ipython",
    "version": 3
   },
   "file_extension": ".py",
   "mimetype": "text/x-python",
   "name": "python",
   "nbconvert_exporter": "python",
   "pygments_lexer": "ipython3",
   "version": "3.8.16"
  },
  "orig_nbformat": 4
 },
 "nbformat": 4,
 "nbformat_minor": 2
}
